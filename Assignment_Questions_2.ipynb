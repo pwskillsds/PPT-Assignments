{
  "nbformat": 4,
  "nbformat_minor": 0,
  "metadata": {
    "colab": {
      "provenance": [],
      "authorship_tag": "ABX9TyMnY0ObCTgiHfGN1h4Nnk56",
      "include_colab_link": true
    },
    "kernelspec": {
      "name": "python3",
      "display_name": "Python 3"
    },
    "language_info": {
      "name": "python"
    }
  },
  "cells": [
    {
      "cell_type": "markdown",
      "metadata": {
        "id": "view-in-github",
        "colab_type": "text"
      },
      "source": [
        "<a href=\"https://colab.research.google.com/github/pwskillsds/PPT-Assignments/blob/main/Assignment_Questions_2.ipynb\" target=\"_parent\"><img src=\"https://colab.research.google.com/assets/colab-badge.svg\" alt=\"Open In Colab\"/></a>"
      ]
    },
    {
      "cell_type": "code",
      "execution_count": 1,
      "metadata": {
        "colab": {
          "base_uri": "https://localhost:8080/"
        },
        "id": "bbPHZjseHDuK",
        "outputId": "2ce17d0f-6a78-4824-9d87-4ff9e70506f3"
      },
      "outputs": [
        {
          "output_type": "stream",
          "name": "stdout",
          "text": [
            "4\n"
          ]
        }
      ],
      "source": [
        "#Q1.\n",
        "def arrayPairSum(nums):\n",
        "  nums.sort()\n",
        "  max_sum = 0\n",
        "\n",
        "  for i in range(0,len(nums),2):\n",
        "    max_sum += nums[i]\n",
        "\n",
        "  return max_sum\n",
        "\n",
        "\n",
        "nums = [1, 4, 3, 2]\n",
        "print(arrayPairSum(nums))"
      ]
    },
    {
      "cell_type": "code",
      "source": [
        "#Q2.\n",
        "def distributeCandies(candyType):\n",
        "  unique_types = len(set(candyType)) # Count the number of unique types\n",
        "  max_types = min(unique_types, len(candyType) // 2) # Calculate the maximum number of types\n",
        "\n",
        "  return max_types\n",
        "\n",
        "\n",
        "candyType = [1, 1, 2, 2, 3, 3]\n",
        "print(distributeCandies(candyType))"
      ],
      "metadata": {
        "colab": {
          "base_uri": "https://localhost:8080/"
        },
        "id": "ASweJ_HFIRiO",
        "outputId": "1141a890-16ad-470e-a9c6-9e880eebe919"
      },
      "execution_count": 2,
      "outputs": [
        {
          "output_type": "stream",
          "name": "stdout",
          "text": [
            "3\n"
          ]
        }
      ]
    },
    {
      "cell_type": "code",
      "source": [
        "#Q3.\n",
        "def findLHS(nums):\n",
        "  num_count= {}\n",
        "  max_length = 0\n",
        "\n",
        "  # Count the occurrences of each number\n",
        "  for num in nums:\n",
        "    if num in num_count:\n",
        "      num_count[num] +=1\n",
        "    else:\n",
        "      num_count[num] =1\n",
        "\n",
        "  # Find the length of the longest harmonious subsequence\n",
        "  for num in num_count:\n",
        "    if num + 1 in num_count:\n",
        "      max_length = max(max_length, num_count[num] + num_count[num + 1])\n",
        "\n",
        "\n",
        "  return max_length\n",
        "\n",
        "\n",
        "nums = [1, 3, 2, 2, 5, 2, 3, 7]\n",
        "print(findLHS(nums))\n"
      ],
      "metadata": {
        "colab": {
          "base_uri": "https://localhost:8080/"
        },
        "id": "PI-Lzux4J89C",
        "outputId": "93567b99-ed78-4d98-dee0-a09e8bdb26bd"
      },
      "execution_count": 3,
      "outputs": [
        {
          "output_type": "stream",
          "name": "stdout",
          "text": [
            "5\n"
          ]
        }
      ]
    },
    {
      "cell_type": "code",
      "source": [
        "#Q4.\n",
        "def canPlaceFlowers(flowerbed, n):\n",
        "    count = 0\n",
        "    length = len(flowerbed)\n",
        "    i = 0\n",
        "\n",
        "    while i < length:\n",
        "        if flowerbed[i] == 0 and (i == 0 or flowerbed[i - 1] == 0) and (i == length - 1 or flowerbed[i + 1] == 0):\n",
        "            flowerbed[i] = 1\n",
        "            count += 1\n",
        "            i += 1  # Skip the next position since it is adjacent\n",
        "        if count >= n:\n",
        "            return True\n",
        "        i += 1\n",
        "\n",
        "    return False\n",
        "\n",
        "\n",
        "flowerbed = [1, 0, 0, 0, 1]\n",
        "n = 1\n",
        "print(canPlaceFlowers(flowerbed, n))\n"
      ],
      "metadata": {
        "colab": {
          "base_uri": "https://localhost:8080/"
        },
        "id": "CEOgZs10ORhd",
        "outputId": "292fc10e-8922-474a-8c3e-785cfac36ea2"
      },
      "execution_count": 4,
      "outputs": [
        {
          "output_type": "stream",
          "name": "stdout",
          "text": [
            "True\n"
          ]
        }
      ]
    },
    {
      "cell_type": "code",
      "source": [
        "#Q5.\n",
        "def maximumProduct(nums):\n",
        "    nums.sort()\n",
        "    n = len(nums)\n",
        "\n",
        "    # Calculate the product of the last three elements\n",
        "    product1 = nums[n - 1] * nums[n - 2] * nums[n - 3]\n",
        "\n",
        "    # Calculate the product of the first two elements and the last element\n",
        "    product2 = nums[0] * nums[1] * nums[n - 1]\n",
        "\n",
        "    return max(product1, product2)\n",
        "\n",
        "nums = [1, 2, 3]\n",
        "print(maximumProduct(nums))"
      ],
      "metadata": {
        "colab": {
          "base_uri": "https://localhost:8080/"
        },
        "id": "ezlBZdXvR6Di",
        "outputId": "30ae47b8-5c77-42ca-c9d5-25a7cde39b5e"
      },
      "execution_count": 5,
      "outputs": [
        {
          "output_type": "stream",
          "name": "stdout",
          "text": [
            "6\n"
          ]
        }
      ]
    },
    {
      "cell_type": "code",
      "source": [
        "#Q6.\n",
        "def search(nums, target):\n",
        "    left = 0\n",
        "    right = len(nums) - 1\n",
        "\n",
        "    while left <= right:\n",
        "        mid = (left + right) // 2\n",
        "\n",
        "        if nums[mid] == target:\n",
        "            return mid\n",
        "        elif nums[mid] < target:\n",
        "            left = mid + 1\n",
        "        else:\n",
        "            right = mid - 1\n",
        "\n",
        "    return -1\n",
        "\n",
        "\n",
        "nums = [-1, 0, 3, 5, 9, 12]\n",
        "target = 9\n",
        "print(search(nums, target))"
      ],
      "metadata": {
        "colab": {
          "base_uri": "https://localhost:8080/"
        },
        "id": "U57VExmUSRkR",
        "outputId": "3466a744-5c14-4f9b-f56d-81b2333c9bf0"
      },
      "execution_count": 6,
      "outputs": [
        {
          "output_type": "stream",
          "name": "stdout",
          "text": [
            "4\n"
          ]
        }
      ]
    },
    {
      "cell_type": "code",
      "source": [
        "#Q7.\n",
        "def isMonotonic(nums):\n",
        "    sorted_nums = sorted(nums)\n",
        "    return nums == sorted_nums or nums == sorted_nums[::-1]\n",
        "\n",
        "\n",
        "nums = [1, 2, 2, 3]\n",
        "print(isMonotonic(nums))"
      ],
      "metadata": {
        "colab": {
          "base_uri": "https://localhost:8080/"
        },
        "id": "bQNYy_1zSUg9",
        "outputId": "f5b62283-ff38-4670-aff2-1dced42550bc"
      },
      "execution_count": 7,
      "outputs": [
        {
          "output_type": "stream",
          "name": "stdout",
          "text": [
            "True\n"
          ]
        }
      ]
    },
    {
      "cell_type": "code",
      "source": [
        "#Q8\n",
        "def minScore(nums, k):\n",
        "    minimum = min(nums)\n",
        "    maximum = max(nums)\n",
        "    initial_score = maximum - minimum\n",
        "\n",
        "    if initial_score <= 2 * k:\n",
        "        return initial_score\n",
        "\n",
        "    potential_scores = []\n",
        "\n",
        "    for i in range(len(nums)):\n",
        "        for x in range(-k, k+1):\n",
        "            new_score = max(nums) - min(nums) + x\n",
        "            potential_scores.append(new_score)\n",
        "\n",
        "    return min(potential_scores)\n",
        "\n",
        "\n",
        "nums = [1]\n",
        "k = 0\n",
        "print(minScore(nums, k))"
      ],
      "metadata": {
        "colab": {
          "base_uri": "https://localhost:8080/"
        },
        "id": "gSdpMvilVLGX",
        "outputId": "c30a0bd6-e1bb-4af6-add3-e91caf774a33"
      },
      "execution_count": 8,
      "outputs": [
        {
          "output_type": "stream",
          "name": "stdout",
          "text": [
            "0\n"
          ]
        }
      ]
    }
  ]
}