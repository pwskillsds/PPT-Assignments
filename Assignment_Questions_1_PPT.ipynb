{
  "nbformat": 4,
  "nbformat_minor": 0,
  "metadata": {
    "colab": {
      "provenance": [],
      "authorship_tag": "ABX9TyMZJUUfYEPR2aLcEUkcCsW7",
      "include_colab_link": true
    },
    "kernelspec": {
      "name": "python3",
      "display_name": "Python 3"
    },
    "language_info": {
      "name": "python"
    }
  },
  "cells": [
    {
      "cell_type": "markdown",
      "metadata": {
        "id": "view-in-github",
        "colab_type": "text"
      },
      "source": [
        "<a href=\"https://colab.research.google.com/github/pwskillsds/PPT-Assignments/blob/main/Assignment_Questions_1_PPT.ipynb\" target=\"_parent\"><img src=\"https://colab.research.google.com/assets/colab-badge.svg\" alt=\"Open In Colab\"/></a>"
      ]
    },
    {
      "cell_type": "markdown",
      "source": [
        "Q1."
      ],
      "metadata": {
        "id": "FUjiewsoJjgW"
      }
    },
    {
      "cell_type": "code",
      "source": [
        "class TwoSum:\n",
        "  def __init__(self):\n",
        "    self.num_dict={}\n",
        "\n",
        "  def two_sum(self,nums,target):\n",
        "    for i,num in enumerate(nums):\n",
        "      complement = target - num\n",
        "\n",
        "      if complement in self.num_dict:\n",
        "        return [self.num_dict[complement],i]\n",
        "\n",
        "      self.num_dict[num]=i\n",
        "    return []\n",
        "\n",
        "\n",
        "\n",
        "nums = [2,7,11,15]\n",
        "target = 9\n",
        "\n",
        "solver = TwoSum()\n",
        "result = solver.two_sum(nums,target)\n",
        "result"
      ],
      "metadata": {
        "colab": {
          "base_uri": "https://localhost:8080/"
        },
        "id": "4dbVRxVrJl2p",
        "outputId": "7ebbf27d-e204-41e2-c04f-f77859af7ea8"
      },
      "execution_count": 1,
      "outputs": [
        {
          "output_type": "execute_result",
          "data": {
            "text/plain": [
              "[0, 1]"
            ]
          },
          "metadata": {},
          "execution_count": 1
        }
      ]
    },
    {
      "cell_type": "markdown",
      "source": [
        "Q2."
      ],
      "metadata": {
        "id": "7jmZKbWVT-Fo"
      }
    },
    {
      "cell_type": "code",
      "source": [
        "class RemoveElement:\n",
        "  def remove_element(self,nums,val):\n",
        "    k = 0\n",
        "\n",
        "    for i in range(len(nums)):\n",
        "      if nums[i] != val :\n",
        "        nums[k] = nums[i]\n",
        "        k += 1\n",
        "\n",
        "    return k\n",
        "\n",
        "\n",
        "nums = [3,2,2,3]\n",
        "val = 3\n",
        "\n",
        "remove = RemoveElement()\n",
        "k = remove.remove_element(nums,val)\n",
        "print(\"k = \",k)\n",
        "print(\"nums = \",nums[:k] + ['_']* (len(nums) - k))"
      ],
      "metadata": {
        "colab": {
          "base_uri": "https://localhost:8080/"
        },
        "id": "oKy2UApuRWWd",
        "outputId": "c466c62a-0dd3-4ffc-8ce6-dfbb0600b82d"
      },
      "execution_count": 2,
      "outputs": [
        {
          "output_type": "stream",
          "name": "stdout",
          "text": [
            "k =  2\n",
            "nums =  [2, 2, '_', '_']\n"
          ]
        }
      ]
    },
    {
      "cell_type": "markdown",
      "source": [
        "Q3."
      ],
      "metadata": {
        "id": "bziW7HMDVFJf"
      }
    },
    {
      "cell_type": "code",
      "source": [
        "class SearchInsertPosition:\n",
        "  def searchInsert(self,nums,target):\n",
        "    left = 0\n",
        "    right = len(nums) - 1\n",
        "\n",
        "    while left <= right:\n",
        "      mid = left + (right - left) // 2\n",
        "\n",
        "      if nums[mid] == target:\n",
        "        return mid\n",
        "      elif nums[mid] < target:\n",
        "        left = mid + 1\n",
        "      else:\n",
        "        right = mid - 1\n",
        "\n",
        "      return left # Target value not found, return the index where it should be inserted\n",
        "\n",
        "nums = [1, 3, 5, 6]\n",
        "target = 5\n",
        "\n",
        "searcher = SearchInsertPosition()\n",
        "result = searcher.searchInsert(nums, target)\n",
        "print(result)"
      ],
      "metadata": {
        "colab": {
          "base_uri": "https://localhost:8080/"
        },
        "id": "fLpz4b4yURcM",
        "outputId": "2be17575-0178-45fc-a413-9c1769dd36e3"
      },
      "execution_count": 3,
      "outputs": [
        {
          "output_type": "stream",
          "name": "stdout",
          "text": [
            "2\n"
          ]
        }
      ]
    },
    {
      "cell_type": "markdown",
      "source": [
        "Q4."
      ],
      "metadata": {
        "id": "IBrxsF9RWiRa"
      }
    },
    {
      "cell_type": "code",
      "source": [
        "class PlusOne:\n",
        "  def plusOne(self,digits):\n",
        "    n=len(digits)\n",
        "\n",
        "    for i in range(n-1,-1,-1):\n",
        "      if digits[i] < 9:\n",
        "        digits[i] += 1\n",
        "        return digits\n",
        "      else:\n",
        "        digits[i]=0\n",
        "\n",
        "    digits.insert(0,1)\n",
        "    return digits\n",
        "\n",
        "digits = [1,2,3]\n",
        "plus_one = PlusOne()\n",
        "result = plus_one.plusOne(digits)\n",
        "result"
      ],
      "metadata": {
        "id": "LblNZQzWWiat",
        "colab": {
          "base_uri": "https://localhost:8080/"
        },
        "outputId": "b6f7b5d5-4d2e-4198-9fa4-46775de6c2fe"
      },
      "execution_count": 4,
      "outputs": [
        {
          "output_type": "execute_result",
          "data": {
            "text/plain": [
              "[1, 2, 4]"
            ]
          },
          "metadata": {},
          "execution_count": 4
        }
      ]
    },
    {
      "cell_type": "code",
      "source": [
        "plus_one.plusOne([2,6,9])"
      ],
      "metadata": {
        "colab": {
          "base_uri": "https://localhost:8080/"
        },
        "id": "PlnYSLHlX2x4",
        "outputId": "8b56f5da-67f3-4ca8-bbd3-9dc4779f202a"
      },
      "execution_count": 5,
      "outputs": [
        {
          "output_type": "execute_result",
          "data": {
            "text/plain": [
              "[2, 7, 0]"
            ]
          },
          "metadata": {},
          "execution_count": 5
        }
      ]
    },
    {
      "cell_type": "code",
      "source": [
        "plus_one.plusOne([9,9,9])"
      ],
      "metadata": {
        "colab": {
          "base_uri": "https://localhost:8080/"
        },
        "id": "WOJ1gO5zYbLF",
        "outputId": "3ebe488b-66da-435e-ca62-7b0dbfe9052f"
      },
      "execution_count": 6,
      "outputs": [
        {
          "output_type": "execute_result",
          "data": {
            "text/plain": [
              "[1, 0, 0, 0]"
            ]
          },
          "metadata": {},
          "execution_count": 6
        }
      ]
    },
    {
      "cell_type": "markdown",
      "source": [
        "Q5."
      ],
      "metadata": {
        "id": "eXgOLxoScPBl"
      }
    },
    {
      "cell_type": "code",
      "source": [
        "def merge(nums1, m, nums2, n):\n",
        "  p1=m-1\n",
        "  p2=n-1\n",
        "  p=m+n-1\n",
        "\n",
        "  while p1>=0 and p2>=0:\n",
        "    if nums1[p1] > nums2[p2]:\n",
        "      nums1[p]=nums1[p1]\n",
        "      p1 -=1\n",
        "    else:\n",
        "      nums1[p]=nums2[p2]\n",
        "      p2 -=1\n",
        "\n",
        "    p -=1\n",
        "\n",
        "  nums1[:p2 + 1] = nums2[:p2 + 1]\n",
        "\n",
        "nums1 = [1, 2, 3, 0, 0, 0]\n",
        "m = 3\n",
        "nums2 = [2, 5, 6]\n",
        "n = 3\n",
        "\n",
        "merge(nums1, m, nums2, n)\n",
        "print(nums1)"
      ],
      "metadata": {
        "colab": {
          "base_uri": "https://localhost:8080/"
        },
        "id": "oDfeEMaJYmkt",
        "outputId": "d6608f3d-c674-4ffe-d6a4-8147b6cecfe3"
      },
      "execution_count": 7,
      "outputs": [
        {
          "output_type": "stream",
          "name": "stdout",
          "text": [
            "[1, 2, 2, 3, 5, 6]\n"
          ]
        }
      ]
    },
    {
      "cell_type": "markdown",
      "source": [
        "Q6."
      ],
      "metadata": {
        "id": "kqlyuGgecQmE"
      }
    },
    {
      "cell_type": "code",
      "source": [
        "def containsDuplicate(nums):\n",
        "  n=len(nums)\n",
        "\n",
        "  for i in range(n):\n",
        "    for j in range(i+1,n):\n",
        "      if nums[i] == nums[j]:\n",
        "        return True\n",
        "\n",
        "  return False\n",
        "\n",
        "\n",
        "nums = [1, 2, 3, 1]\n",
        "result = containsDuplicate(nums)\n",
        "print(result)\n"
      ],
      "metadata": {
        "colab": {
          "base_uri": "https://localhost:8080/"
        },
        "id": "gH_AEO2fbrK1",
        "outputId": "b00d1cec-00c5-44df-e3a8-e6e35d51cde8"
      },
      "execution_count": 8,
      "outputs": [
        {
          "output_type": "stream",
          "name": "stdout",
          "text": [
            "True\n"
          ]
        }
      ]
    },
    {
      "cell_type": "markdown",
      "source": [
        "Q7."
      ],
      "metadata": {
        "id": "ENzqV5vHd-Qz"
      }
    },
    {
      "cell_type": "code",
      "source": [
        "def moveZeroes(nums):\n",
        "  n=len(nums)\n",
        "  left=0\n",
        "\n",
        "  for i in range(n):\n",
        "    if nums[i]!=0:\n",
        "      nums[left]=nums[i]\n",
        "      left += 1\n",
        "\n",
        "  for i in range(left,n):\n",
        "    nums[i]=0\n",
        "\n",
        "nums = [0, 1, 0, 3, 12]\n",
        "moveZeroes(nums)\n",
        "print(nums)"
      ],
      "metadata": {
        "colab": {
          "base_uri": "https://localhost:8080/"
        },
        "id": "k0Cz_1ZzdM3g",
        "outputId": "e4016a77-cee5-48de-f48f-2ef112485df0"
      },
      "execution_count": 9,
      "outputs": [
        {
          "output_type": "stream",
          "name": "stdout",
          "text": [
            "[1, 3, 12, 0, 0]\n"
          ]
        }
      ]
    },
    {
      "cell_type": "markdown",
      "source": [
        "Q8."
      ],
      "metadata": {
        "id": "yeGGVhnXfmLc"
      }
    },
    {
      "cell_type": "code",
      "source": [
        "def findErrorNums(nums):\n",
        "  n = len(nums)\n",
        "  expected_sum = n*(n+1)//2\n",
        "  actual_sum = sum(set(nums))\n",
        "  missing_num = expected_sum - actual_sum\n",
        "  duplicate_num = sum(nums) - actual_sum\n",
        "  return [duplicate_num,missing_num]\n",
        "\n",
        "nums = [1, 2, 2, 4]\n",
        "result = findErrorNums(nums)\n",
        "print(result)\n"
      ],
      "metadata": {
        "colab": {
          "base_uri": "https://localhost:8080/"
        },
        "id": "uQvqA6zve89Q",
        "outputId": "bd88a218-8bf7-4024-9840-92bbe22e2886"
      },
      "execution_count": 10,
      "outputs": [
        {
          "output_type": "stream",
          "name": "stdout",
          "text": [
            "[2, 3]\n"
          ]
        }
      ]
    }
  ]
}