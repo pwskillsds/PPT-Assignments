{
  "nbformat": 4,
  "nbformat_minor": 0,
  "metadata": {
    "colab": {
      "provenance": [],
      "authorship_tag": "ABX9TyMZJUUfYEPR2aLcEUkcCsW7",
      "include_colab_link": true
    },
    "kernelspec": {
      "name": "python3",
      "display_name": "Python 3"
    },
    "language_info": {
      "name": "python"
    }
  },
  "cells": [
    {
      "cell_type": "markdown",
      "metadata": {
        "id": "view-in-github",
        "colab_type": "text"
      },
      "source": [
        "<a href=\"https://colab.research.google.com/github/pwskillsds/PPT-Assignments/blob/main/Assignment_Questions_1_PPT.ipynb\" target=\"_parent\"><img src=\"https://colab.research.google.com/assets/colab-badge.svg\" alt=\"Open In Colab\"/></a>"
      ]
    },
    {
      "cell_type": "markdown",
      "source": [
        "Q1."
      ],
      "metadata": {
        "id": "FUjiewsoJjgW"
      }
    },
    {
      "cell_type": "code",
      "source": [
        "class TwoSum:\n",
        "  def __init__(self):\n",
        "    self.num_dict={}\n",
        "\n",
        "  def two_sum(self,nums,target):\n",
        "    for i,num in enumerate(nums):\n",
        "      complement = target - num\n",
        "\n",
        "      if complement in self.num_dict:\n",
        "        return [self.num_dict[complement],i]\n",
        "\n",
        "      self.num_dict[num]=i\n",
        "    return []\n",
        "\n",
        "\n",
        "\n",
        "nums = [2,7,11,15]\n",
        "target = 9\n",
        "\n",
        "solver = TwoSum()\n",
        "result = solver.two_sum(nums,target)\n",
        "result"
      ],
      "metadata": {
        "colab": {
          "base_uri": "https://localhost:8080/"
        },
        "id": "4dbVRxVrJl2p",
        "outputId": "f89ee76b-e8a2-45b0-f570-c345c1293ad3"
      },
      "execution_count": null,
      "outputs": [
        {
          "output_type": "execute_result",
          "data": {
            "text/plain": [
              "[0, 1]"
            ]
          },
          "metadata": {},
          "execution_count": 22
        }
      ]
    },
    {
      "cell_type": "markdown",
      "source": [
        "Q2."
      ],
      "metadata": {
        "id": "7jmZKbWVT-Fo"
      }
    },
    {
      "cell_type": "code",
      "source": [
        "class RemoveElement:\n",
        "  def remove_element(self,nums,val):\n",
        "    k = 0\n",
        "\n",
        "    for i in range(len(nums)):\n",
        "      if nums[i] != val :\n",
        "        nums[k] = nums[i]\n",
        "        k += 1\n",
        "\n",
        "    return k\n",
        "\n",
        "\n",
        "nums = [3,2,2,3]\n",
        "val = 3\n",
        "\n",
        "remove = RemoveElement()\n",
        "k = remove.remove_element(nums,val)\n",
        "print(\"k = \",k)\n",
        "print(\"nums = \",nums[:k] + ['_']* (len(nums) - k))"
      ],
      "metadata": {
        "colab": {
          "base_uri": "https://localhost:8080/"
        },
        "id": "oKy2UApuRWWd",
        "outputId": "5fbace72-8a49-4751-9bd8-a2dbe34c431b"
      },
      "execution_count": null,
      "outputs": [
        {
          "output_type": "stream",
          "name": "stdout",
          "text": [
            "k =  2\n",
            "nums =  [2, 2, '_', '_']\n"
          ]
        }
      ]
    },
    {
      "cell_type": "markdown",
      "source": [
        "Q3."
      ],
      "metadata": {
        "id": "bziW7HMDVFJf"
      }
    },
    {
      "cell_type": "code",
      "source": [
        "class SearchInsertPosition:\n",
        "  def searchInsert(self,nums,target):\n",
        "    left = 0\n",
        "    right = len(nums) - 1\n",
        "\n",
        "    while left <= right:\n",
        "      mid = left + (right - left) // 2\n",
        "\n",
        "      if nums[mid] == target:\n",
        "        return mid\n",
        "      elif nums[mid] < target:\n",
        "        left = mid + 1\n",
        "      else:\n",
        "        right = mid - 1\n",
        "\n",
        "      return left # Target value not found, return the index where it should be inserted\n",
        "\n",
        "nums = [1, 3, 5, 6]\n",
        "target = 5\n",
        "\n",
        "searcher = SearchInsertPosition()\n",
        "result = searcher.searchInsert(nums, target)\n",
        "print(result)"
      ],
      "metadata": {
        "colab": {
          "base_uri": "https://localhost:8080/"
        },
        "id": "fLpz4b4yURcM",
        "outputId": "4c65ff25-9d04-4121-c370-a28dbd4840ca"
      },
      "execution_count": null,
      "outputs": [
        {
          "output_type": "stream",
          "name": "stdout",
          "text": [
            "2\n"
          ]
        }
      ]
    },
    {
      "cell_type": "markdown",
      "source": [
        "Q4."
      ],
      "metadata": {
        "id": "IBrxsF9RWiRa"
      }
    },
    {
      "cell_type": "code",
      "source": [
        "class PlusOne:\n",
        "  def plusOne(self,digits):\n",
        "    n=len(digits)\n",
        "\n",
        "    for i in range(n-1,-1,-1):\n",
        "      if digits[i] < 9:\n",
        "        digits[i] += 1\n",
        "        return digits\n",
        "      else:\n",
        "        digits[i]=0\n",
        "\n",
        "    digits.insert(0,1)\n",
        "    return digits\n",
        "\n",
        "digits = [1,2,3]\n",
        "plus_one = PlusOne()\n",
        "result = plus_one.plusOne(digits)\n",
        "result"
      ],
      "metadata": {
        "id": "LblNZQzWWiat",
        "colab": {
          "base_uri": "https://localhost:8080/"
        },
        "outputId": "d6b74bbe-279f-46a6-895c-f50173fdae87"
      },
      "execution_count": 2,
      "outputs": [
        {
          "output_type": "execute_result",
          "data": {
            "text/plain": [
              "[1, 2, 4]"
            ]
          },
          "metadata": {},
          "execution_count": 2
        }
      ]
    },
    {
      "cell_type": "code",
      "source": [
        "plus_one.plusOne([2,6,9])"
      ],
      "metadata": {
        "colab": {
          "base_uri": "https://localhost:8080/"
        },
        "id": "PlnYSLHlX2x4",
        "outputId": "89f7aa1e-6f22-45fe-d2ac-0928c2518c83"
      },
      "execution_count": 3,
      "outputs": [
        {
          "output_type": "execute_result",
          "data": {
            "text/plain": [
              "[2, 7, 0]"
            ]
          },
          "metadata": {},
          "execution_count": 3
        }
      ]
    },
    {
      "cell_type": "code",
      "source": [
        "plus_one.plusOne([9,9,9])"
      ],
      "metadata": {
        "colab": {
          "base_uri": "https://localhost:8080/"
        },
        "id": "WOJ1gO5zYbLF",
        "outputId": "33c4c2ba-b839-4f14-a2af-21984f95c530"
      },
      "execution_count": 4,
      "outputs": [
        {
          "output_type": "execute_result",
          "data": {
            "text/plain": [
              "[1, 0, 0, 0]"
            ]
          },
          "metadata": {},
          "execution_count": 4
        }
      ]
    },
    {
      "cell_type": "markdown",
      "source": [
        "Q5."
      ],
      "metadata": {
        "id": "eXgOLxoScPBl"
      }
    },
    {
      "cell_type": "code",
      "source": [
        "def merge(nums1, m, nums2, n):\n",
        "  p1=m-1\n",
        "  p2=n-1\n",
        "  p=m+n-1\n",
        "\n",
        "  while p1>=0 and p2>=0:\n",
        "    if nums1[p1] > nums2[p2]:\n",
        "      nums1[p]=nums1[p1]\n",
        "      p1 -=1\n",
        "    else:\n",
        "      nums1[p]=nums2[p2]\n",
        "      p2 -=1\n",
        "\n",
        "    p -=1\n",
        "\n",
        "  nums1[:p2 + 1] = nums2[:p2 + 1]\n",
        "\n",
        "nums1 = [1, 2, 3, 0, 0, 0]\n",
        "m = 3\n",
        "nums2 = [2, 5, 6]\n",
        "n = 3\n",
        "\n",
        "merge(nums1, m, nums2, n)\n",
        "print(nums1)"
      ],
      "metadata": {
        "colab": {
          "base_uri": "https://localhost:8080/"
        },
        "id": "oDfeEMaJYmkt",
        "outputId": "1550d6f2-d828-432d-99e8-a1c4d95e2097"
      },
      "execution_count": 7,
      "outputs": [
        {
          "output_type": "stream",
          "name": "stdout",
          "text": [
            "[1, 2, 2, 3, 5, 6]\n"
          ]
        }
      ]
    },
    {
      "cell_type": "markdown",
      "source": [
        "Q6."
      ],
      "metadata": {
        "id": "kqlyuGgecQmE"
      }
    },
    {
      "cell_type": "code",
      "source": [
        "def containsDuplicate(nums):\n",
        "  n=len(nums)\n",
        "\n",
        "  for i in range(n):\n",
        "    for j in range(i+1,n):\n",
        "      if nums[i] == nums[j]:\n",
        "        return True\n",
        "\n",
        "  return False\n",
        "\n",
        "\n",
        "nums = [1, 2, 3, 1]\n",
        "result = containsDuplicate(nums)\n",
        "print(result)\n"
      ],
      "metadata": {
        "colab": {
          "base_uri": "https://localhost:8080/"
        },
        "id": "gH_AEO2fbrK1",
        "outputId": "048926a5-8a1b-4c60-a95d-6b4008493c08"
      },
      "execution_count": 8,
      "outputs": [
        {
          "output_type": "stream",
          "name": "stdout",
          "text": [
            "True\n"
          ]
        }
      ]
    },
    {
      "cell_type": "markdown",
      "source": [
        "Q7."
      ],
      "metadata": {
        "id": "ENzqV5vHd-Qz"
      }
    },
    {
      "cell_type": "code",
      "source": [
        "def moveZeroes(nums):\n",
        "  n=len(nums)\n",
        "  left=0\n",
        "\n",
        "  for i in range(n):\n",
        "    if nums[i]!=0:\n",
        "      nums[left]=nums[i]\n",
        "      left += 1\n",
        "\n",
        "  for i in range(left,n):\n",
        "    nums[i]=0\n",
        "\n",
        "nums = [0, 1, 0, 3, 12]\n",
        "moveZeroes(nums)\n",
        "print(nums)"
      ],
      "metadata": {
        "colab": {
          "base_uri": "https://localhost:8080/"
        },
        "id": "k0Cz_1ZzdM3g",
        "outputId": "0cf22a4a-7d15-4de6-c896-cf46b343d958"
      },
      "execution_count": 13,
      "outputs": [
        {
          "output_type": "stream",
          "name": "stdout",
          "text": [
            "[1, 3, 12, 0, 0]\n"
          ]
        }
      ]
    },
    {
      "cell_type": "markdown",
      "source": [
        "Q8."
      ],
      "metadata": {
        "id": "yeGGVhnXfmLc"
      }
    },
    {
      "cell_type": "code",
      "source": [
        "def findErrorNums(nums):\n",
        "  n = len(nums)\n",
        "  expected_sum = n*(n+1)//2\n",
        "  actual_sum = sum(set(nums))\n",
        "  missing_num = expected_sum - actual_sum\n",
        "  duplicate_num = sum(nums) - actual_sum\n",
        "  return [duplicate_num,missing_num]\n",
        "\n",
        "nums = [1, 2, 2, 4]\n",
        "result = findErrorNums(nums)\n",
        "print(result)\n"
      ],
      "metadata": {
        "colab": {
          "base_uri": "https://localhost:8080/"
        },
        "id": "uQvqA6zve89Q",
        "outputId": "11c7cdce-77ca-4a62-df91-812a3e1f733b"
      },
      "execution_count": 14,
      "outputs": [
        {
          "output_type": "stream",
          "name": "stdout",
          "text": [
            "[2, 3]\n"
          ]
        }
      ]
    }
  ]
}